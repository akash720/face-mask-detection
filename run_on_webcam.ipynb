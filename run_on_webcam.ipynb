{
 "cells": [
  {
   "cell_type": "code",
   "execution_count": 1,
   "metadata": {},
   "outputs": [],
   "source": [
    "import cv2\n",
    "import PIL \n",
    "from facenet_pytorch import MTCNN\n",
    "from PIL import Image,ImageDraw\n",
    "\n",
    "import torch\n",
    "import numpy as np\n",
    "from torchvision import datasets, models, transforms"
   ]
  },
  {
   "cell_type": "code",
   "execution_count": 2,
   "metadata": {},
   "outputs": [],
   "source": [
    "# Define data transform to apply on the image from webcam\n",
    "data_transform =  transforms.Compose([transforms.Resize((224,224)), transforms.ToTensor()])"
   ]
  },
  {
   "cell_type": "code",
   "execution_count": 3,
   "metadata": {
    "scrolled": false
   },
   "outputs": [
    {
     "name": "stdout",
     "output_type": "stream",
     "text": [
      "cuda\n"
     ]
    }
   ],
   "source": [
    "# check if gpu is available\n",
    "device = torch.device(\"cuda\" if torch.cuda.is_available() else \"cpu\")\n",
    "\n",
    "#Load Model\n",
    "model = torch.load('face_mask_model.pth')\n",
    "model.eval()\n",
    "\n",
    "print(device)"
   ]
  },
  {
   "cell_type": "code",
   "execution_count": 4,
   "metadata": {},
   "outputs": [],
   "source": [
    "# MTCNN is used for face detection\n",
    "mtcnn = MTCNN(keep_all = True, device = device)"
   ]
  },
  {
   "cell_type": "code",
   "execution_count": null,
   "metadata": {
    "scrolled": false
   },
   "outputs": [],
   "source": [
    "cap = cv2.VideoCapture(0)\n",
    "sm = torch.nn.Softmax(dim=1)\n",
    "\n",
    "while True:\n",
    "    ret, image = cap.read()\n",
    "    \n",
    "    # Flip image horizontally\n",
    "    image = cv2.flip(image, 1)\n",
    "    \n",
    "    frame = image.copy()\n",
    "    frame = cv2.cvtColor(frame, cv2.COLOR_BGR2RGB)\n",
    "    \n",
    "    # Detect faces in image\n",
    "    boxes, _ = mtcnn.detect(frame)\n",
    "    \n",
    "    color = (0,255,0)\n",
    "    \n",
    "    # Threshold for position of box points\n",
    "    t = 5\n",
    "    if boxes is not None:\n",
    "        for box in boxes:\n",
    "            startX, endX = int(box[0]) - t, int(box[2]) + t\n",
    "            startY, endY = int(box[1]) - t, int(box[3]) + t\n",
    "            \n",
    "            # Draw rectangle over the image\n",
    "            cv2.rectangle(image, (startX, startY), (endX, endY), color, 2)\n",
    "            \n",
    "            face = frame[startY:endY, startX:endX]\n",
    "            img = PIL.Image.fromarray(face)\n",
    "            with torch.no_grad():\n",
    "                img = data_transform(img)\n",
    "                img = img.to(device)\n",
    "                img = img.view(-1, 3, 224, 224)\n",
    "                res = model(img)\n",
    "            \n",
    "            is_mask = True if torch.argmax(res) == 0 else False \n",
    "            txt = 'Mask' if is_mask else 'No Mask'\n",
    "            \n",
    "            probabilities = sm(res)\n",
    "            conf_value = probabilities[0][0].item() if is_mask else probabilities[0][1].item()\n",
    "            conf = f'Confidence: {conf_value*100:.2f}%'\n",
    "\n",
    "            color = (0, 255, 0)\n",
    "            cv2.putText(image, txt, (startX, startY - 20), cv2.FONT_HERSHEY_SIMPLEX, 0.45, color, 1)\n",
    "            cv2.putText(image, conf, (startX, startY - 10), cv2.FONT_HERSHEY_SIMPLEX, 0.45, color, 1)\n",
    "    \n",
    "    cv2.imshow(\"Video\", image)\n",
    "    k = cv2.waitKey(1) & 0xFF\n",
    "    if k == ord(\"q\"):\n",
    "        break\n",
    "cap.release()\n",
    "cv2.destroyAllWindows()"
   ]
  }
 ],
 "metadata": {
  "kernelspec": {
   "display_name": "Python 3",
   "language": "python",
   "name": "python3"
  },
  "language_info": {
   "codemirror_mode": {
    "name": "ipython",
    "version": 3
   },
   "file_extension": ".py",
   "mimetype": "text/x-python",
   "name": "python",
   "nbconvert_exporter": "python",
   "pygments_lexer": "ipython3",
   "version": "3.7.1"
  }
 },
 "nbformat": 4,
 "nbformat_minor": 4
}
